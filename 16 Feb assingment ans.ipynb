{
 "cells": [
  {
   "cell_type": "markdown",
   "id": "016ffb8e-4c70-43d1-8d01-3ef05ea5d1de",
   "metadata": {},
   "source": [
    "Q1. What is a database? Differentiate between SQL and NoSQL databases."
   ]
  },
  {
   "cell_type": "markdown",
   "id": "4ef3184f-4387-46ac-8d2e-bc4ee248205a",
   "metadata": {},
   "source": [
    "A database is a structured collection of data that is organized and stored for efficient retrieval, manipulation, and management. It provides a way to store, organize, and retrieve large amounts of data in a systematic manner."
   ]
  },
  {
   "cell_type": "markdown",
   "id": "03bd200a-9e49-4175-a621-f68e7742e9ee",
   "metadata": {},
   "source": [
    "SQL Databases:\n",
    "SQL databases are based on a relational data model. They use structured schemas to define the organization of data into tables, rows, and columns. SQL databases enforce strict data integrity rules through constraints and support complex relationships between tables through the use of foreign keys. The primary language used to query SQL databases is SQL, a declarative language for manipulating and retrieving data. SQL databases provide ACID (Atomicity, Consistency, Isolation, Durability) properties, which ensure data consistency and reliability."
   ]
  },
  {
   "cell_type": "markdown",
   "id": "793aca36-b8c4-4248-bcc1-b4a9d2834dfb",
   "metadata": {},
   "source": [
    "NoSQL Databases:\n",
    "NoSQL databases are designed to handle large volumes of rapidly changing, unstructured, and semi-structured data. They provide flexible schemas that allow for dynamic and schema-less data storage. NoSQL databases use various data models such as key-value, document, columnar, and graph. They prioritize scalability, performance, and availability over strict data consistency. NoSQL databases offer high write and read throughput and can scale horizontally by distributing data across multiple servers."
   ]
  },
  {
   "cell_type": "markdown",
   "id": "5784c267-ec0a-4a8b-aa82-cc21a54e38eb",
   "metadata": {},
   "source": [
    "Q2. What is DDL? Explain why CREATE, DROP, ALTER, and TRUNCATE are used with an example."
   ]
  },
  {
   "cell_type": "markdown",
   "id": "4599134e-9e09-4c0d-be53-66d7f47c73ee",
   "metadata": {},
   "source": [
    "DDL stands for Data Definition Language. It is a subset of SQL (Structured Query Language) used to define and manage the structure of a database, including creating, modifying, and deleting database objects such as tables, indexes, and constraints"
   ]
  },
  {
   "cell_type": "markdown",
   "id": "7646a328-27a1-40d8-ac73-51486f272815",
   "metadata": {},
   "source": [
    "1-CREATE:\n",
    "The CREATE statement is used to create new database objects, such as tables, views, indexes, or schemas. For example, to create a table named \"Customers\" with columns for \"ID,\" \"Name,\" and \"Email,\" you would use the following CREATE statement in SQL:"
   ]
  },
  {
   "cell_type": "markdown",
   "id": "b0083ad9-d568-4d22-afc0-d435bd656830",
   "metadata": {},
   "source": [
    "CREATE TABLE Customers (\n",
    "    ID INT,\n",
    "    Name VARCHAR(100),\n",
    "    Email VARCHAR(100)\n",
    ");"
   ]
  },
  {
   "cell_type": "markdown",
   "id": "9755de52-7c09-426a-993c-b05052bccb90",
   "metadata": {},
   "source": [
    "2-DROP:\n",
    "The DROP statement is used to remove or delete existing database objects. It permanently deletes the object and all associated data. For example, to drop the \"Customers\" table created in the previous example, you would use the following DROP statement:"
   ]
  },
  {
   "cell_type": "markdown",
   "id": "dfe6609b-79de-4a0d-9ded-230ad635de99",
   "metadata": {},
   "source": [
    "DROP TABLE Customers;\n"
   ]
  },
  {
   "cell_type": "markdown",
   "id": "2cfe25da-e086-43c1-bcd5-7bc329df4508",
   "metadata": {},
   "source": [
    "3-ALTER:\n",
    "The ALTER statement is used to modify the structure of an existing database object. It allows you to add, modify, or delete columns, constraints, or other properties of a table or other database objects. For example, to add a new column named \"Phone\" to the \"Customers\" table, you would use the following ALTER statement:"
   ]
  },
  {
   "cell_type": "markdown",
   "id": "18e55b7c-5c26-4c80-ac6f-49b23a35383d",
   "metadata": {},
   "source": [
    "ALTER TABLE Customers\n",
    "ADD Phone VARCHAR(20);\n"
   ]
  },
  {
   "cell_type": "markdown",
   "id": "b6bf9193-5f04-489c-8812-d7ef767988fe",
   "metadata": {},
   "source": [
    "4-TRUNCATE:\n",
    "The TRUNCATE statement is used to delete all the data from a table, but it keeps the structure intact. It is a faster alternative to the DELETE statement when you want to remove all records from a table. For example, to truncate the \"Customers\" table, you would use the following TRUNCATE statement:"
   ]
  },
  {
   "cell_type": "markdown",
   "id": "2c3655d8-b7bc-4eaf-879b-5e99a09bd563",
   "metadata": {},
   "source": [
    "TRUNCATE TABLE Customers;\n"
   ]
  },
  {
   "cell_type": "markdown",
   "id": "5e604ca9-a5dc-4bc8-b01b-3b12014502a7",
   "metadata": {},
   "source": []
  },
  {
   "cell_type": "markdown",
   "id": "2a5a439c-9c68-4803-bf52-cb960452d3ce",
   "metadata": {},
   "source": [
    "Q3. What is DML? Explain INSERT, UPDATE, and DELETE with an example."
   ]
  },
  {
   "cell_type": "markdown",
   "id": "be116d1e-6595-49b5-8093-453288906b7a",
   "metadata": {},
   "source": [
    "DML is an abbreviation for Data Manipulation Language. Represents a collection of programming languages explicitly used to make changes to the database, such as: CRUD operations to create, read, update and delete data. Using INSERT, SELECT, UPDATE, and DELETE commands."
   ]
  },
  {
   "cell_type": "markdown",
   "id": "2fa67153-3d98-4794-9af0-b11c35c81d6c",
   "metadata": {},
   "source": [
    "1-INSERT:\n",
    "The INSERT statement is used to add new rows of data into a table. It allows you to specify the values for each column or select values from another table. For example, to insert a new row into a table named \"Employees\" with values for columns \"ID,\" \"Name,\" and \"Salary,\" you would use the following INSERT statement:"
   ]
  },
  {
   "cell_type": "markdown",
   "id": "7f628b9d-c2f1-4a72-b4f4-49e6b270272c",
   "metadata": {},
   "source": [
    "INSERT INTO Employees (ID, Name, Salary)\n",
    "VALUES (1, 'abhishek mishra', 50000);\n"
   ]
  },
  {
   "cell_type": "markdown",
   "id": "8d041429-ce58-437d-9158-effe48cdb6e1",
   "metadata": {},
   "source": [
    "2-UPDATE:\n",
    "The UPDATE statement is used to modify existing data within a table. It allows you to update specific columns or rows based on certain conditions. For example, to update the salary of an employee with the ID of 1 in the \"Employees\" table, you would use the following UPDATE statement:"
   ]
  },
  {
   "cell_type": "markdown",
   "id": "4d5170bd-244c-448a-88ee-a8720016359b",
   "metadata": {},
   "source": [
    "UPDATE Employees\n",
    "SET Salary = 55000\n",
    "WHERE ID = 1;\n"
   ]
  },
  {
   "cell_type": "markdown",
   "id": "4c2368cd-1790-4570-ab99-848bf3291b44",
   "metadata": {},
   "source": [
    "3-DELETE:\n",
    "The DELETE statement is used to remove specific rows or all rows from a table. It allows you to specify conditions to delete specific records or remove all records. For example, to delete an employee with the ID of 1 from the \"Employees\" table, you would use the following DELETE statement:"
   ]
  },
  {
   "cell_type": "code",
   "execution_count": null,
   "id": "cda91f7e-8167-4e1c-90ef-7cf6aaf658a7",
   "metadata": {},
   "outputs": [],
   "source": [
    "DELETE FROM Employees\n",
    "WHERE ID = 1;\n"
   ]
  },
  {
   "cell_type": "code",
   "execution_count": null,
   "id": "23f701ef-6f29-494a-a460-8fad04501048",
   "metadata": {},
   "outputs": [],
   "source": []
  },
  {
   "cell_type": "markdown",
   "id": "98929e2a-109a-4545-92b8-f1c4536e367b",
   "metadata": {},
   "source": [
    "Q4. What is DQL? Explain SELECT with an example."
   ]
  },
  {
   "cell_type": "markdown",
   "id": "8cc6417d-0f94-4880-92c6-d029f68f592c",
   "metadata": {},
   "source": [
    "DQL stands for Data Query Language. It is a subset of SQL (Structured Query Language) used to retrieve and query data from a database. DQL statements, particularly the SELECT statement, are used to retrieve specific data from one or multiple tables based on specified conditions."
   ]
  },
  {
   "cell_type": "markdown",
   "id": "26647ea4-f0ed-4ef3-8897-4452660601a0",
   "metadata": {},
   "source": [
    "Here is an explanation of the SELECT statement:\n",
    "\n",
    "The SELECT statement is used to query and retrieve data from one or more tables in a database. It allows you to specify the columns you want to retrieve, the tables from which to retrieve the data, and any conditions or filters to apply. Here's an example of a SELECT statement:"
   ]
  },
  {
   "cell_type": "markdown",
   "id": "f831e729-735d-43de-b0df-0e1c75654b11",
   "metadata": {},
   "source": [
    "You can also apply various conditions using logical operators (AND, OR) and comparison operators (=, <, >, etc.) to filter the data further. Additionally, you can use functions like COUNT, SUM, AVG, etc., to perform calculations on the selected data or use ORDER BY to sort the result set.\n",
    "\n",
    "For example, to retrieve the total number of customers and their average salary from a table named \"Employees\" grouped by department, you would use the following SELECT statement:"
   ]
  },
  {
   "cell_type": "markdown",
   "id": "9169504c-29f4-4e32-9f16-d3d549f3421d",
   "metadata": {},
   "source": [
    "SELECT Department, COUNT(*) AS TotalCustomers, AVG(Salary) AS AverageSalary\n",
    "FROM Employees\n",
    "GROUP BY Department;\n"
   ]
  },
  {
   "cell_type": "code",
   "execution_count": null,
   "id": "9aaeb8a6-e628-4b4b-9575-f57814ac453f",
   "metadata": {},
   "outputs": [],
   "source": []
  },
  {
   "cell_type": "markdown",
   "id": "d5e047cf-bd64-4b72-b4e5-90c43dfbb425",
   "metadata": {},
   "source": [
    "Q5. Explain Primary Key and Foreign Key."
   ]
  },
  {
   "cell_type": "markdown",
   "id": "ace25bc6-3911-41f5-8d63-9aa02e8c89af",
   "metadata": {},
   "source": [
    "Primary Key:\n",
    "A primary key is a column or a set of columns that uniquely identifies each record or row in a table. It ensures that each row in a table is unique and provides a way to uniquely identify and retrieve individual records. The primary key constraint enforces the uniqueness and non-nullability of the key column(s). Key characteristics of a primary key include:\n",
    "\n",
    "Uniqueness: Each value in the primary key column(s) must be unique, meaning no two rows in the table can have the same key value.\n",
    "\n",
    "Non-nullability: The primary key column(s) cannot contain null values.\n",
    "\n",
    "Single value or composite: A primary key can consist of a single column or a combination of multiple columns, forming a composite key.\n",
    "\n",
    "Stable and unchanging: The primary key value(s) should generally be static and not change over time.\n",
    "\n",
    "For example, in a table named \"Employees,\" the \"ID\" column can be designated as the primary key, ensuring that each employee has a unique identifier:\n",
    "\n",
    "\n"
   ]
  },
  {
   "cell_type": "markdown",
   "id": "226622f3-7a91-4e98-a05f-43fa60d60a5a",
   "metadata": {},
   "source": [
    "CREATE TABLE Employees (\n",
    "    ID INT PRIMARY KEY,\n",
    "    Name VARCHAR(100),\n",
    "    ...\n",
    ");"
   ]
  },
  {
   "cell_type": "markdown",
   "id": "f23ba88d-9ae1-4446-95a8-d62fd4adb146",
   "metadata": {},
   "source": [
    "Foreign Key:\n",
    "A foreign key establishes a relationship between two tables by linking the primary key of one table to a column in another table. It represents a reference to the primary key values in another table, creating a parent-child relationship between the tables. The foreign key constraint ensures data integrity by enforcing referential integrity rules. Key characteristics of a foreign key include:\n",
    "\n",
    "References primary key: The foreign key column(s) in one table references the primary key column(s) of another table.\n",
    "\n",
    "Relationship: The foreign key represents a relationship between the two tables, where the referencing table is the child table and the referenced table is the parent table.\n",
    "\n",
    "Maintaining referential integrity: The foreign key ensures that values in the referencing table match the values in the referenced table, preventing orphaned records.\n",
    "\n",
    "Optional or mandatory: Depending on the requirements, a foreign key column can be designated as optional (allowing null values) or mandatory (not allowing null values).\n",
    "\n",
    "For example, consider two tables: \"Orders\" and \"Customers.\" The \"Orders\" table can have a foreign key column named \"CustomerID\" that references the primary key \"ID\" column in the \"Customers\" table, establishing a relationship between the two tables:\n",
    "\n",
    "\n"
   ]
  },
  {
   "cell_type": "markdown",
   "id": "e75633d0-c00d-4821-a163-2edfb6965ff1",
   "metadata": {},
   "source": [
    "CREATE TABLE Orders (\n",
    "    OrderID INT PRIMARY KEY,\n",
    "    OrderDate DATE,\n",
    "    CustomerID INT,\n",
    "    ...\n",
    "    FOREIGN KEY (CustomerID) REFERENCES Customers(ID)\n",
    ");"
   ]
  },
  {
   "cell_type": "code",
   "execution_count": null,
   "id": "808fa2a8-37c8-4fa9-a3f9-80194da1d452",
   "metadata": {},
   "outputs": [],
   "source": []
  },
  {
   "cell_type": "markdown",
   "id": "53c2b0fa-791a-4191-ad07-e12482fbbe02",
   "metadata": {},
   "source": [
    "Q6. Write a python code to connect MySQL to python. Explain the cursor() and execute() method."
   ]
  },
  {
   "cell_type": "markdown",
   "id": "5c793928-e558-45d0-92c7-34dd2d51f6cd",
   "metadata": {},
   "source": [
    "Certainly! To connect MySQL to Python, you can use the mysql-connector-python library, which provides an interface for connecting and interacting with MySQL databases. Here's an example code snippet that demonstrates how to establish a connection and execute a query using the cursor() and execute() methods:"
   ]
  },
  {
   "cell_type": "markdown",
   "id": "07d71709-1fe2-4453-8532-c510b221dffe",
   "metadata": {},
   "source": [
    "import mysql.connector\n",
    "\n",
    "# Establish connection to MySQL\n",
    "cnx = mysql.connector.connect(\n",
    "    host=\"your_host\",\n",
    "    user=\"your_user\",\n",
    "    password=\"your_password\",\n",
    "    database=\"your_database\"\n",
    ")\n",
    "\n",
    "# Create a cursor object\n",
    "cursor = cnx.cursor()\n",
    "\n",
    "# Execute a query\n",
    "query = \"SELECT * FROM your_table\"\n",
    "cursor.execute(query)\n",
    "\n",
    "# Fetch and print the results\n",
    "results = cursor.fetchall()\n",
    "for row in results:\n",
    "    print(row)\n",
    "\n",
    "# Close the cursor and connection\n",
    "cursor.close()\n",
    "cnx.close()\n"
   ]
  },
  {
   "cell_type": "code",
   "execution_count": null,
   "id": "c01cea4b-7b6d-4f55-9e77-2d77ea78d09d",
   "metadata": {},
   "outputs": [],
   "source": []
  },
  {
   "cell_type": "markdown",
   "id": "c2d85300-9888-4a51-b8fd-c224391b5da7",
   "metadata": {},
   "source": [
    "Q7. Give the order of execution of SQL clauses in an SQL query."
   ]
  },
  {
   "cell_type": "code",
   "execution_count": null,
   "id": "d3ac101f-b5ab-4c9a-ac14-52c86f9ba44d",
   "metadata": {},
   "outputs": [],
   "source": []
  }
 ],
 "metadata": {
  "kernelspec": {
   "display_name": "Python 3 (ipykernel)",
   "language": "python",
   "name": "python3"
  },
  "language_info": {
   "codemirror_mode": {
    "name": "ipython",
    "version": 3
   },
   "file_extension": ".py",
   "mimetype": "text/x-python",
   "name": "python",
   "nbconvert_exporter": "python",
   "pygments_lexer": "ipython3",
   "version": "3.10.8"
  }
 },
 "nbformat": 4,
 "nbformat_minor": 5
}
